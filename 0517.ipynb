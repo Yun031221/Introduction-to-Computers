{
  "nbformat": 4,
  "nbformat_minor": 0,
  "metadata": {
    "colab": {
      "provenance": [],
      "authorship_tag": "ABX9TyM8NsnggWCdzBQntf473FRf",
      "include_colab_link": true
    },
    "kernelspec": {
      "name": "python3",
      "display_name": "Python 3"
    },
    "language_info": {
      "name": "python"
    }
  },
  "cells": [
    {
      "cell_type": "markdown",
      "metadata": {
        "id": "view-in-github",
        "colab_type": "text"
      },
      "source": [
        "<a href=\"https://colab.research.google.com/github/Yun031221/Introduction-to-Computers/blob/main/0517.ipynb\" target=\"_parent\"><img src=\"https://colab.research.google.com/assets/colab-badge.svg\" alt=\"Open In Colab\"/></a>"
      ]
    },
    {
      "cell_type": "code",
      "source": [
        "t=float(input())\n",
        "if(t >=37.5):\n",
        " print(\"體恩過高!\") \n",
        "elif(t <= 37.4 and t>= 37):\n",
        " print(\"體溫略高!\")\n",
        "elif(t <= 36.9 and t>= 34):\n",
        " print(\"體溫正常!\") \n",
        "else:\n",
        " print(\"體溫異常，請重新量測!\")  "
      ],
      "metadata": {
        "colab": {
          "base_uri": "https://localhost:8080/"
        },
        "id": "O-B64hCY3HRS",
        "outputId": "ce48eb2e-e724-4905-8af1-3acaf3e2fcda"
      },
      "execution_count": 7,
      "outputs": [
        {
          "output_type": "stream",
          "name": "stdout",
          "text": [
            "35.9\n",
            "體溫正常!\n"
          ]
        }
      ]
    },
    {
      "cell_type": "code",
      "source": [
        "score=int(input(\"請輸入成績\"))\n",
        "if(score >= 90):\n",
        " print('A')\n",
        "elif(score >= 80 and score <= 89):\n",
        " print('B')\n",
        "elif(score >= 70 and score <= 79):\n",
        " print('C')\n",
        "elif(score >= 60 and score <= 69):\n",
        " print('D')\n",
        "else:\n",
        " print('F')"
      ],
      "metadata": {
        "colab": {
          "base_uri": "https://localhost:8080/"
        },
        "id": "rYATk8jm7Zof",
        "outputId": "b699ed06-fcb9-4d3f-8499-4065c673be1a"
      },
      "execution_count": 14,
      "outputs": [
        {
          "output_type": "stream",
          "name": "stdout",
          "text": [
            "請輸入成績75\n",
            "C\n"
          ]
        }
      ]
    },
    {
      "cell_type": "code",
      "source": [
        "f=int(input())\n",
        "if(f >= 1 and f <= 12):\n",
        " if(f==3 or f==4 or f==5):\n",
        "  print(\"{}月是春天!\".format(f))\n",
        " elif(f==6 or f==7 or f==8):\n",
        "  print(\"{}月是夏天!\".format(f))\n",
        " elif(f==9 or f==10 or f==11): \n",
        "  print(\"{}月是秋天!\".format(f))  \n",
        " else: \n",
        "  print(\"{}月是冬天!\".format(f))\n",
        "else:\n",
        " print(\"月份不再範圍內\")   "
      ],
      "metadata": {
        "colab": {
          "base_uri": "https://localhost:8080/"
        },
        "id": "1JOEohqD1WVu",
        "outputId": "93be84f4-796a-478d-d5f2-5162ec55a606"
      },
      "execution_count": 2,
      "outputs": [
        {
          "output_type": "stream",
          "name": "stdout",
          "text": [
            "12\n",
            "12月是冬天!\n"
          ]
        }
      ]
    },
    {
      "cell_type": "code",
      "source": [
        "t=int(input(\"請輸入今年收入淨額:\"))\n",
        "if(t >= 2000000):\n",
        " tax=t*0.3\n",
        " print(\"付稅金額:{}元\".format(tax))\n",
        "elif(t >= 1000000):\n",
        " tax=t*0.21\n",
        " print(\"付稅金額:{}元\".format(tax)) \n",
        "elif(t >= 600000):\n",
        " tax=t*0.13\n",
        " print(\"付稅金額:{}元\".format(tax))\n",
        "elif(t >= 300000):\n",
        " tax=t*0.06\n",
        " print(\"付稅金額:{}元\".format(tax))  \n",
        "else:\n",
        " tax=0\n",
        " print(\"付稅金額:{}元\".format(tax))  "
      ],
      "metadata": {
        "colab": {
          "base_uri": "https://localhost:8080/"
        },
        "id": "kFhJgiwx3GQ2",
        "outputId": "2401d297-82d3-4069-ab2f-c27adf18fce3"
      },
      "execution_count": 19,
      "outputs": [
        {
          "output_type": "stream",
          "name": "stdout",
          "text": [
            "請輸入今年收入淨額:100000\n",
            "付稅金額:0元\n"
          ]
        }
      ]
    },
    {
      "cell_type": "code",
      "execution_count": 10,
      "metadata": {
        "colab": {
          "base_uri": "https://localhost:8080/"
        },
        "id": "veOMBTpNx71E",
        "outputId": "d4c8bc40-4921-4bd2-c206-bc3f3596e1f0"
      },
      "outputs": [
        {
          "output_type": "stream",
          "name": "stdout",
          "text": [
            "請輸入成績59\n",
            "E\n"
          ]
        }
      ],
      "source": [
        "score=int(input(\"請輸入成績\"))\n",
        "if score >= 90:\n",
        "    print('A')\n",
        "elif score >= 80:\n",
        "    print('B')\n",
        "elif score >= 70:\n",
        "    print('C')\n",
        "elif score >= 60:\n",
        "    print('D')\n",
        "else:\n",
        "    print('F')"
      ]
    },
    {
      "cell_type": "code",
      "source": [
        "rain=input(\"今天會下雨嗎?\")\n",
        "if (rain==\"Y\" or rain==\"y\"):\n",
        "  print(\"出門記得帶傘!\")\n",
        "elif(rain==\"N\" or rain==\"n\"):\n",
        "  print(\"不用帶傘\")\n",
        "else:\n",
        "  print(\"錯誤\")   "
      ],
      "metadata": {
        "colab": {
          "base_uri": "https://localhost:8080/"
        },
        "id": "2QJsm4fs-eyh",
        "outputId": "986c5463-7411-4bfd-f5c2-344a64d64e5e"
      },
      "execution_count": 20,
      "outputs": [
        {
          "output_type": "stream",
          "name": "stdout",
          "text": [
            "今天會下雨嗎?y\n",
            "出門記得帶傘!\n"
          ]
        }
      ]
    }
  ]
}