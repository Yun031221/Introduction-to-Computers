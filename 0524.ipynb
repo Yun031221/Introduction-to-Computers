{
  "nbformat": 4,
  "nbformat_minor": 0,
  "metadata": {
    "colab": {
      "provenance": [],
      "authorship_tag": "ABX9TyNaAzfSZ3as+ebeBW8KByP3",
      "include_colab_link": true
    },
    "kernelspec": {
      "name": "python3",
      "display_name": "Python 3"
    },
    "language_info": {
      "name": "python"
    }
  },
  "cells": [
    {
      "cell_type": "markdown",
      "metadata": {
        "id": "view-in-github",
        "colab_type": "text"
      },
      "source": [
        "<a href=\"https://colab.research.google.com/github/Yun031221/Introduction-to-Computers/blob/main/0524.ipynb\" target=\"_parent\"><img src=\"https://colab.research.google.com/assets/colab-badge.svg\" alt=\"Open In Colab\"/></a>"
      ]
    },
    {
      "cell_type": "code",
      "source": [
        "a=range(0,9)\n",
        "print(list(a))\n",
        "b=range(1,10)\n",
        "print(list(b))\n",
        "c=range(1,10,2)\n",
        "print(list(c))\n",
        "d=range(10,0,-2)\n",
        "print(list(d))"
      ],
      "metadata": {
        "colab": {
          "base_uri": "https://localhost:8080/"
        },
        "id": "2zZdDTdc55wd",
        "outputId": "c8ed32a5-f05a-411b-885f-420a4bd5062e"
      },
      "execution_count": null,
      "outputs": [
        {
          "output_type": "stream",
          "name": "stdout",
          "text": [
            "[0, 1, 2, 3, 4, 5, 6, 7, 8]\n",
            "[1, 2, 3, 4, 5, 6, 7, 8, 9]\n",
            "[1, 3, 5, 7, 9]\n",
            "[10, 8, 6, 4, 2]\n"
          ]
        }
      ]
    },
    {
      "cell_type": "code",
      "source": [
        "n=int(input(\"請輸入一個正整數\"))\n",
        "e=range(1,n+1)\n",
        "print(list(e))"
      ],
      "metadata": {
        "id": "Yg5S2Qgz8BTv",
        "colab": {
          "base_uri": "https://localhost:8080/"
        },
        "outputId": "41a476df-3735-4476-ae17-88fa6ba40593"
      },
      "execution_count": 19,
      "outputs": [
        {
          "output_type": "stream",
          "name": "stdout",
          "text": [
            "請輸入一個正整數12\n",
            "[1, 2, 3, 4, 5, 6, 7, 8, 9, 10, 11, 12]\n"
          ]
        }
      ]
    },
    {
      "cell_type": "code",
      "source": [
        "n=int(input(\"請輸入一個正整數:\"))\n",
        "sum=0\n",
        "for n in range(1,n+1):\n",
        "  sum=sum+n\n",
        "print(\"1到 %d 的整數合為 %d\" % (n,sum))  "
      ],
      "metadata": {
        "colab": {
          "base_uri": "https://localhost:8080/"
        },
        "id": "-HTFYDg08-th",
        "outputId": "10c27ee3-ff36-4425-c222-337e61883123"
      },
      "execution_count": 25,
      "outputs": [
        {
          "output_type": "stream",
          "name": "stdout",
          "text": [
            "請輸入一個正整數:50\n",
            "1到 50 的整數合為 1275\n"
          ]
        }
      ]
    },
    {
      "cell_type": "code",
      "source": [
        "n=int(input(\"請輸入一個正整數:\"))\n",
        "sum = 0\n",
        "for i in range(1,n+1,1):\n",
        "  sum = sum + i\n",
        "  print('1到',i,'的整數合為: ',sum)"
      ],
      "metadata": {
        "colab": {
          "base_uri": "https://localhost:8080/"
        },
        "id": "F41ms77u-nI2",
        "outputId": "eba41359-0634-4e84-fa83-6c1c15b7c6b6"
      },
      "execution_count": 29,
      "outputs": [
        {
          "output_type": "stream",
          "name": "stdout",
          "text": [
            "請輸入一個正整數:10\n",
            "1到 1 的整數合為:  1\n",
            "1到 2 的整數合為:  3\n",
            "1到 3 的整數合為:  6\n",
            "1到 4 的整數合為:  10\n",
            "1到 5 的整數合為:  15\n",
            "1到 6 的整數合為:  21\n",
            "1到 7 的整數合為:  28\n",
            "1到 8 的整數合為:  36\n",
            "1到 9 的整數合為:  45\n",
            "1到 10 的整數合為:  55\n"
          ]
        }
      ]
    }
  ]
}