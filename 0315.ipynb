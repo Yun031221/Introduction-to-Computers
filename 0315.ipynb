{
  "nbformat": 4,
  "nbformat_minor": 0,
  "metadata": {
    "colab": {
      "provenance": [],
      "authorship_tag": "ABX9TyMWs+gm4uvaAKGpB2lKdy4M",
      "include_colab_link": true
    },
    "kernelspec": {
      "name": "python3",
      "display_name": "Python 3"
    },
    "language_info": {
      "name": "python"
    }
  },
  "cells": [
    {
      "cell_type": "markdown",
      "metadata": {
        "id": "view-in-github",
        "colab_type": "text"
      },
      "source": [
        "<a href=\"https://colab.research.google.com/github/Yun031221/Introduction-to-Computers/blob/main/0315.ipynb\" target=\"_parent\"><img src=\"https://colab.research.google.com/assets/colab-badge.svg\" alt=\"Open In Colab\"/></a>"
      ]
    },
    {
      "cell_type": "code",
      "source": [
        "a=1"
      ],
      "metadata": {
        "id": "rvVb0JAVf1yA"
      },
      "execution_count": null,
      "outputs": []
    },
    {
      "cell_type": "code",
      "source": [
        "b=2"
      ],
      "metadata": {
        "id": "cE4Be9iRf3uE"
      },
      "execution_count": null,
      "outputs": []
    },
    {
      "cell_type": "code",
      "source": [
        "c=3"
      ],
      "metadata": {
        "id": "xqQzIWA2f49h"
      },
      "execution_count": null,
      "outputs": []
    },
    {
      "cell_type": "code",
      "source": [
        "print(a,b,c)"
      ],
      "metadata": {
        "colab": {
          "base_uri": "https://localhost:8080/"
        },
        "id": "q8t3zpsFf69b",
        "outputId": "ab572afe-5b7a-44a7-cb74-94c463b1ea72"
      },
      "execution_count": null,
      "outputs": [
        {
          "output_type": "stream",
          "name": "stdout",
          "text": [
            "1 2 3\n"
          ]
        }
      ]
    },
    {
      "cell_type": "code",
      "source": [
        "print([a,b,c])"
      ],
      "metadata": {
        "colab": {
          "base_uri": "https://localhost:8080/"
        },
        "id": "joLZj0qBf9Uv",
        "outputId": "bbaa32c8-5fda-4ead-a60e-3487bf22adc1"
      },
      "execution_count": null,
      "outputs": [
        {
          "output_type": "stream",
          "name": "stdout",
          "text": [
            "[1, 2, 3]\n"
          ]
        }
      ]
    },
    {
      "cell_type": "code",
      "source": [
        "print(a,[b,c])"
      ],
      "metadata": {
        "colab": {
          "base_uri": "https://localhost:8080/"
        },
        "id": "smJNPVhJgBMO",
        "outputId": "60cdd3db-9144-4724-cc69-a10baa38332d"
      },
      "execution_count": null,
      "outputs": [
        {
          "output_type": "stream",
          "name": "stdout",
          "text": [
            "1 [2, 3]\n"
          ]
        }
      ]
    },
    {
      "cell_type": "code",
      "source": [
        "print('hey','hi','hello')"
      ],
      "metadata": {
        "colab": {
          "base_uri": "https://localhost:8080/"
        },
        "id": "snOr1tpqgKmS",
        "outputId": "78b8c528-422a-481d-aafe-9563bf0e556f"
      },
      "execution_count": null,
      "outputs": [
        {
          "output_type": "stream",
          "name": "stdout",
          "text": [
            "hey hi hello\n"
          ]
        }
      ]
    },
    {
      "cell_type": "code",
      "source": [
        "print('hey','hi','hello',sep='_')"
      ],
      "metadata": {
        "colab": {
          "base_uri": "https://localhost:8080/"
        },
        "id": "Nk4tZGK_gg91",
        "outputId": "5f915054-54be-4ad4-9ed9-cade33a70bb8"
      },
      "execution_count": null,
      "outputs": [
        {
          "output_type": "stream",
          "name": "stdout",
          "text": [
            "hey_hi_hello\n"
          ]
        }
      ]
    },
    {
      "cell_type": "code",
      "source": [
        "print('hey','hi','hello',sep='\\t')"
      ],
      "metadata": {
        "colab": {
          "base_uri": "https://localhost:8080/"
        },
        "id": "PGLd_2Z_gvke",
        "outputId": "aa157c36-5e7c-4772-936f-016849bec53f"
      },
      "execution_count": null,
      "outputs": [
        {
          "output_type": "stream",
          "name": "stdout",
          "text": [
            "hey\thi\thello\n"
          ]
        }
      ]
    },
    {
      "cell_type": "code",
      "source": [
        "print('hey','hi','helle',sep='\\n')"
      ],
      "metadata": {
        "colab": {
          "base_uri": "https://localhost:8080/"
        },
        "id": "eygMIb5zg4DD",
        "outputId": "ad083c38-5ca1-42f7-97f4-405ad2fec2aa"
      },
      "execution_count": null,
      "outputs": [
        {
          "output_type": "stream",
          "name": "stdout",
          "text": [
            "hey\n",
            "hi\n",
            "helle\n"
          ]
        }
      ]
    },
    {
      "cell_type": "code",
      "source": [
        "print('午安')"
      ],
      "metadata": {
        "colab": {
          "base_uri": "https://localhost:8080/"
        },
        "id": "dUT8PmYBhAQ8",
        "outputId": "942f950e-839f-494c-dd40-a7eea6bf72a4"
      },
      "execution_count": null,
      "outputs": [
        {
          "output_type": "stream",
          "name": "stdout",
          "text": [
            "午安\n"
          ]
        }
      ]
    },
    {
      "cell_type": "code",
      "source": [
        "print('同學好')"
      ],
      "metadata": {
        "colab": {
          "base_uri": "https://localhost:8080/"
        },
        "id": "N0FBhVY1hCvl",
        "outputId": "a00ee663-706f-4bf9-da0e-09bed7bd9901"
      },
      "execution_count": null,
      "outputs": [
        {
          "output_type": "stream",
          "name": "stdout",
          "text": [
            "同學好\n"
          ]
        }
      ]
    },
    {
      "cell_type": "code",
      "source": [
        "print('打起精神來!!')"
      ],
      "metadata": {
        "colab": {
          "base_uri": "https://localhost:8080/"
        },
        "id": "jwBFxBjJhHzB",
        "outputId": "919cb685-ced3-4aaf-db0c-2f3d33c2706c"
      },
      "execution_count": null,
      "outputs": [
        {
          "output_type": "stream",
          "name": "stdout",
          "text": [
            "打起精神來!!\n"
          ]
        }
      ]
    },
    {
      "cell_type": "code",
      "source": [
        "print('午安,','同學好!','打起精神來!!',sep='\\n')"
      ],
      "metadata": {
        "colab": {
          "base_uri": "https://localhost:8080/"
        },
        "id": "H9HaaDBGhMCw",
        "outputId": "1e97181a-0267-40bf-9475-281c2c619ba9"
      },
      "execution_count": null,
      "outputs": [
        {
          "output_type": "stream",
          "name": "stdout",
          "text": [
            "午安,\n",
            "同學好!\n",
            "打起精神來!!\n"
          ]
        }
      ]
    },
    {
      "cell_type": "code",
      "source": [
        "print(123)"
      ],
      "metadata": {
        "colab": {
          "base_uri": "https://localhost:8080/"
        },
        "id": "awgD43Kchju1",
        "outputId": "91bc5f44-66d6-4ff1-8231-c5d9d67d8677"
      },
      "execution_count": null,
      "outputs": [
        {
          "output_type": "stream",
          "name": "stdout",
          "text": [
            "123\n"
          ]
        }
      ]
    },
    {
      "cell_type": "code",
      "source": [
        "print(456)"
      ],
      "metadata": {
        "colab": {
          "base_uri": "https://localhost:8080/"
        },
        "id": "xsdrJs25hlg1",
        "outputId": "5196cafb-76e8-4b35-9b00-802b0b40e35e"
      },
      "execution_count": null,
      "outputs": [
        {
          "output_type": "stream",
          "name": "stdout",
          "text": [
            "456\n"
          ]
        }
      ]
    },
    {
      "cell_type": "code",
      "source": [
        "print(123,end=',')"
      ],
      "metadata": {
        "colab": {
          "base_uri": "https://localhost:8080/"
        },
        "id": "T7qFVKrmhnLw",
        "outputId": "3e83012f-74dc-4c98-f088-abf463bdbf18"
      },
      "execution_count": null,
      "outputs": [
        {
          "output_type": "stream",
          "name": "stdout",
          "text": [
            "123,"
          ]
        }
      ]
    },
    {
      "cell_type": "code",
      "source": [
        "print(456)"
      ],
      "metadata": {
        "colab": {
          "base_uri": "https://localhost:8080/"
        },
        "id": "GYMwKTJfhuUe",
        "outputId": "86f54773-85de-4766-f833-80a23c811874"
      },
      "execution_count": null,
      "outputs": [
        {
          "output_type": "stream",
          "name": "stdout",
          "text": [
            "456\n"
          ]
        }
      ]
    },
    {
      "cell_type": "code",
      "source": [
        "print(123,end='')"
      ],
      "metadata": {
        "colab": {
          "base_uri": "https://localhost:8080/"
        },
        "id": "u27uXFVihydz",
        "outputId": "9c8d4bfd-8afe-4ff4-deab-fa098145e3a4"
      },
      "execution_count": null,
      "outputs": [
        {
          "output_type": "stream",
          "name": "stdout",
          "text": [
            "123"
          ]
        }
      ]
    },
    {
      "cell_type": "code",
      "source": [
        "print(456)"
      ],
      "metadata": {
        "colab": {
          "base_uri": "https://localhost:8080/"
        },
        "id": "HXLQrTFkh339",
        "outputId": "f0d91a5b-e7ce-4038-8f17-528a99aa3a54"
      },
      "execution_count": null,
      "outputs": [
        {
          "output_type": "stream",
          "name": "stdout",
          "text": [
            "456\n"
          ]
        }
      ]
    },
    {
      "cell_type": "code",
      "source": [
        "print('午安','同學好','打起精神來!!!',sep='_')"
      ],
      "metadata": {
        "colab": {
          "base_uri": "https://localhost:8080/"
        },
        "id": "QRdq71hDiCKo",
        "outputId": "e1ccb9b2-6b8d-4a26-e95a-5ff27a1bbc0f"
      },
      "execution_count": 66,
      "outputs": [
        {
          "output_type": "stream",
          "name": "stdout",
          "text": [
            "午安_同學好_打起精神來!!!\n"
          ]
        }
      ]
    },
    {
      "cell_type": "code",
      "source": [
        "print('下午好','平安順心','健康如意^^',sep=',')"
      ],
      "metadata": {
        "colab": {
          "base_uri": "https://localhost:8080/"
        },
        "id": "3Y1TD693iOjS",
        "outputId": "900937ba-0cf0-420a-ca8d-ec55c82b3f2d"
      },
      "execution_count": 67,
      "outputs": [
        {
          "output_type": "stream",
          "name": "stdout",
          "text": [
            "下午好,平安順心,健康如意^^\n"
          ]
        }
      ]
    }
  ]
}